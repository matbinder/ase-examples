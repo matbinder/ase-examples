{
 "cells": [
  {
   "cell_type": "markdown",
   "metadata": {},
   "source": [
    "# Finding lattice constants using EOS and the stress tensor\n",
    "https://wiki.fysik.dtu.dk/ase/tutorials/lattice_constant.html"
   ]
  },
  {
   "cell_type": "code",
   "execution_count": 1,
   "metadata": {},
   "outputs": [],
   "source": [
    "import os\n",
    "os.environ['GPAW_SETUP_PATH'] = os.path.expanduser('~/gpaw-setups-0.9.20000')"
   ]
  },
  {
   "cell_type": "markdown",
   "metadata": {},
   "source": [
    "# HCP\n",
    "Let’s try to find the $a$ and $c$ lattice constants for HCP nickel using the `EMT` potential."
   ]
  },
  {
   "cell_type": "markdown",
   "metadata": {},
   "source": [
    "First, we make a good initial guess for $a$ and $c$ using the FCC nearest neighbor distance and the ideal $c/a$ ratio:"
   ]
  },
  {
   "cell_type": "code",
   "execution_count": 2,
   "metadata": {},
   "outputs": [],
   "source": [
    "import numpy as np\n",
    "a0 = 3.52 / np.sqrt(2)\n",
    "c0 = np.sqrt(8 / 3.0) * a0"
   ]
  },
  {
   "cell_type": "markdown",
   "metadata": {},
   "source": [
    "and create a trajectory for the results:"
   ]
  },
  {
   "cell_type": "code",
   "execution_count": 3,
   "metadata": {},
   "outputs": [],
   "source": [
    "from ase.io import Trajectory\n",
    "traj = Trajectory('Ni.traj', 'w')"
   ]
  },
  {
   "cell_type": "markdown",
   "metadata": {},
   "source": [
    "Finally, we do the 9 calculations (three values for $a$ and three for $c$):"
   ]
  },
  {
   "cell_type": "code",
   "execution_count": 4,
   "metadata": {},
   "outputs": [],
   "source": [
    "from ase.build import bulk\n",
    "from ase.calculators.emt import EMT\n",
    "eps = 0.01\n",
    "for a in a0 * np.linspace(1 - eps, 1 + eps, 3):\n",
    "    for c in c0 * np.linspace(1 - eps, 1 + eps, 3):\n",
    "        ni = bulk('Ni', 'hcp', a=a, c=c)\n",
    "        ni.set_calculator(EMT())\n",
    "        ni.get_potential_energy()\n",
    "        traj.write(ni)"
   ]
  },
  {
   "cell_type": "markdown",
   "metadata": {},
   "source": [
    "# Analysis\n",
    "Now, we need to extract the data from the trajectory. Try this:"
   ]
  },
  {
   "cell_type": "code",
   "execution_count": 5,
   "metadata": {},
   "outputs": [
    {
     "data": {
      "text/plain": [
       "Cell([[2.5, 0.0, 0.0], [-1.25, 2.1650635094610964, 0.0], [0.0, 0.0, 4.0]])"
      ]
     },
     "execution_count": 5,
     "metadata": {},
     "output_type": "execute_result"
    }
   ],
   "source": [
    "from ase.build import bulk\n",
    "ni = bulk('Ni', 'hcp', a=2.5, c=4.0)\n",
    "ni.cell"
   ]
  },
  {
   "cell_type": "markdown",
   "metadata": {},
   "source": [
    "So, we can get $a$ and $c$ from `ni.cell[0, 0]` and `ni.cell[2, 2]`:"
   ]
  },
  {
   "cell_type": "code",
   "execution_count": 6,
   "metadata": {},
   "outputs": [],
   "source": [
    "from ase.io import read\n",
    "configs = read('Ni.traj@:')\n",
    "energies = [config.get_potential_energy() for config in configs]\n",
    "a = np.array([config.cell[0, 0] for config in configs])\n",
    "c = np.array([config.cell[2, 2] for config in configs])"
   ]
  },
  {
   "cell_type": "markdown",
   "metadata": {},
   "source": [
    "We fit the energy to this expression:\n",
    "$$p_0+p_1a+p_2c+p_3a^2+p_4ac+p_5c^2$$\n",
    "The best fit is found like this:"
   ]
  },
  {
   "cell_type": "code",
   "execution_count": 7,
   "metadata": {},
   "outputs": [],
   "source": [
    "functions = np.array([a**0, a, c, a**2, a * c, c**2])\n",
    "p = np.linalg.lstsq(functions.T, energies, rcond=-1)[0]"
   ]
  },
  {
   "cell_type": "markdown",
   "metadata": {},
   "source": [
    "and we can find the minimum like this:"
   ]
  },
  {
   "cell_type": "code",
   "execution_count": 8,
   "metadata": {},
   "outputs": [],
   "source": [
    "p0 = p[0]\n",
    "p1 = p[1:3]\n",
    "p2 = np.array([(2 * p[3], p[4]),\n",
    "               (p[4], 2 * p[5])])\n",
    "a0, c0 = np.linalg.solve(p2.T, -p1)"
   ]
  },
  {
   "cell_type": "markdown",
   "metadata": {},
   "source": [
    "Results:"
   ]
  },
  {
   "cell_type": "code",
   "execution_count": 9,
   "metadata": {},
   "outputs": [
    {
     "data": {
      "text/plain": [
       "(2.465719939633198, 4.0227770441943385)"
      ]
     },
     "execution_count": 9,
     "metadata": {},
     "output_type": "execute_result"
    }
   ],
   "source": [
    "a0, c0"
   ]
  },
  {
   "cell_type": "markdown",
   "metadata": {},
   "source": [
    "# Using the stress tensor\n",
    "One can also use the stress tensor to optimize the unit cell. For this we cannot use the EMT calculator.:"
   ]
  },
  {
   "cell_type": "code",
   "execution_count": null,
   "metadata": {},
   "outputs": [],
   "source": [
    "from ase.optimize import BFGS\n",
    "from ase.constraints import StrainFilter\n",
    "from gpaw import GPAW, PW\n",
    "ni = bulk('Ni', 'hcp', a=a0,c=c0)\n",
    "calc = GPAW(mode=PW(200),xc='LDA',txt='Ni.out')\n",
    "ni.set_calculator(calc)\n",
    "sf = StrainFilter(ni)\n",
    "opt = BFGS(sf)\n",
    "opt.run(0.005)"
   ]
  },
  {
   "cell_type": "markdown",
   "metadata": {},
   "source": [
    "If you want the optimization path in a trajectory, add these lines before calling the `run()` method:"
   ]
  },
  {
   "cell_type": "code",
   "execution_count": null,
   "metadata": {},
   "outputs": [],
   "source": [
    "traj = Trajectory('path.traj', 'w', ni)\n",
    "opt.attach(traj)"
   ]
  }
 ],
 "metadata": {
  "kernelspec": {
   "display_name": "Python 3",
   "language": "python",
   "name": "python3"
  },
  "language_info": {
   "codemirror_mode": {
    "name": "ipython",
    "version": 3
   },
   "file_extension": ".py",
   "mimetype": "text/x-python",
   "name": "python",
   "nbconvert_exporter": "python",
   "pygments_lexer": "ipython3",
   "version": "3.8.2"
  }
 },
 "nbformat": 4,
 "nbformat_minor": 4
}
