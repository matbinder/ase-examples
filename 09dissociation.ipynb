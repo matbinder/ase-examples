{
 "cells": [
  {
   "cell_type": "markdown",
   "metadata": {},
   "source": [
    "# Dissociation of a molecule using the NEB method\n",
    "https://wiki.fysik.dtu.dk/ase/tutorials/dissociation.html\n",
    "\n",
    "In this tutorial we provide an illustrative example of a nudged-elastic band (NEB) calculation. For more information on the NEB technique, see `ase.neb`. We consider the dissociation of a nitrogen molecule on the Cu (111) surface.\n",
    "\n",
    "The first step is to find the relaxed structures of the initial and final states."
   ]
  },
  {
   "cell_type": "code",
   "execution_count": 1,
   "metadata": {},
   "outputs": [],
   "source": [
    "from ase import Atoms\n",
    "from ase.build import fcc111, add_adsorbate"
   ]
  },
  {
   "cell_type": "code",
   "execution_count": 2,
   "metadata": {},
   "outputs": [],
   "source": [
    "from ase.calculators.emt import EMT\n",
    "from ase.constraints import FixAtoms"
   ]
  },
  {
   "cell_type": "code",
   "execution_count": 3,
   "metadata": {},
   "outputs": [],
   "source": [
    "from ase.optimize import QuasiNewton"
   ]
  },
  {
   "cell_type": "code",
   "execution_count": 4,
   "metadata": {},
   "outputs": [],
   "source": [
    "from ase.io import write"
   ]
  },
  {
   "cell_type": "markdown",
   "metadata": {},
   "source": [
    "Find the initial and final states for the reaction."
   ]
  },
  {
   "cell_type": "markdown",
   "metadata": {},
   "source": [
    "Set up a (4 x 4) two layer slab of Cu:"
   ]
  },
  {
   "cell_type": "code",
   "execution_count": 5,
   "metadata": {},
   "outputs": [],
   "source": [
    "slab = fcc111('Cu',size=(4,4,2))\n",
    "slab.set_pbc((1,1,0))"
   ]
  },
  {
   "cell_type": "markdown",
   "metadata": {},
   "source": [
    "Initial state. Add the N2 molecule oriented at 60 degrees:"
   ]
  },
  {
   "cell_type": "code",
   "execution_count": 6,
   "metadata": {},
   "outputs": [],
   "source": [
    "d = 1.10 # N2 bond length\n",
    "N2mol = Atoms('N2',positions=[[0.0,0.0,0.0],[0.5*3**0.5*d,0.5*d,0.0]])\n",
    "add_adsorbate(slab,N2mol,height=1.0,position='fcc')"
   ]
  },
  {
   "cell_type": "markdown",
   "metadata": {},
   "source": [
    "Use the EMT calculator for the forces and energies:"
   ]
  },
  {
   "cell_type": "code",
   "execution_count": 7,
   "metadata": {},
   "outputs": [],
   "source": [
    "slab.set_calculator(EMT())"
   ]
  },
  {
   "cell_type": "markdown",
   "metadata": {},
   "source": [
    "We don't want to worry about the Cu degrees of freedom, so fix these atoms:"
   ]
  },
  {
   "cell_type": "code",
   "execution_count": 8,
   "metadata": {},
   "outputs": [],
   "source": [
    "mask = [atom.symbol == 'Cu' for atom in slab]\n",
    "slab.set_constraint(FixAtoms(mask=mask))"
   ]
  },
  {
   "cell_type": "markdown",
   "metadata": {},
   "source": [
    "Relax the structure"
   ]
  },
  {
   "cell_type": "code",
   "execution_count": 9,
   "metadata": {},
   "outputs": [
    {
     "name": "stdout",
     "output_type": "stream",
     "text": [
      "                Step[ FC]     Time          Energy          fmax\n",
      "*Force-consistent energies used in optimization.\n",
      "BFGSLineSearch:    0[  0] 09:55:16       14.459066*       9.8897\n",
      "BFGSLineSearch:    1[  1] 09:55:17       12.244808*       4.3275\n",
      "BFGSLineSearch:    2[  2] 09:55:17       11.343194*       2.1646\n",
      "BFGSLineSearch:    3[  3] 09:55:17       11.077854*       0.6379\n",
      "BFGSLineSearch:    4[  4] 09:55:17       11.056067*       0.2425\n",
      "BFGSLineSearch:    5[  6] 09:55:18       11.049129*       0.2142\n",
      "BFGSLineSearch:    6[  8] 09:55:18       11.034808*       0.1607\n",
      "BFGSLineSearch:    7[  9] 09:55:18       11.032950*       0.0397\n",
      "initial state: 11.032950397760606\n"
     ]
    }
   ],
   "source": [
    "relax = QuasiNewton(slab)\n",
    "relax.run(fmax=0.05)\n",
    "print('initial state:', slab.get_potential_energy())\n",
    "write('N2.traj', slab)"
   ]
  },
  {
   "cell_type": "markdown",
   "metadata": {},
   "source": [
    "Now the final state. Move the second N atom to a neighboring hollow site:"
   ]
  },
  {
   "cell_type": "code",
   "execution_count": 10,
   "metadata": {},
   "outputs": [],
   "source": [
    "slab[-1].position[0] = slab[-2].position[0] + 0.25 * slab.cell[0,0]\n",
    "slab[-1].position[1] = slab[-2].position[1]"
   ]
  },
  {
   "cell_type": "markdown",
   "metadata": {},
   "source": [
    "and relax."
   ]
  },
  {
   "cell_type": "code",
   "execution_count": 11,
   "metadata": {},
   "outputs": [
    {
     "name": "stdout",
     "output_type": "stream",
     "text": [
      "BFGSLineSearch:    8[ 11] 09:55:19       11.023212*       0.0971\n",
      "BFGSLineSearch:    9[ 13] 09:55:19       11.021738*       0.1053\n",
      "BFGSLineSearch:   10[ 15] 09:55:19       11.017702*       0.0733\n",
      "BFGSLineSearch:   11[ 16] 09:55:20       11.017285*       0.0323\n",
      "final state:   11.017284554452978\n"
     ]
    }
   ],
   "source": [
    "relax.run()\n",
    "print('final state:  ', slab.get_potential_energy())\n",
    "write('2N.traj', slab)"
   ]
  },
  {
   "cell_type": "markdown",
   "metadata": {},
   "source": [
    "Having obtained these structures we set up an NEB calculation with 9 images. Using `interpolate()` provides a guess for the path between the initial and final states. We perform the relaxation of the images and obtain the intermediate steps."
   ]
  },
  {
   "cell_type": "code",
   "execution_count": 12,
   "metadata": {},
   "outputs": [],
   "source": [
    "import numpy as np"
   ]
  },
  {
   "cell_type": "code",
   "execution_count": 13,
   "metadata": {},
   "outputs": [],
   "source": [
    "from ase.constraints import FixAtoms\n",
    "from ase.calculators.emt import EMT\n",
    "from ase.neb import NEB\n",
    "from ase.optimize.fire import FIRE as QuasiNewton\n",
    "from ase.io import read"
   ]
  },
  {
   "cell_type": "markdown",
   "metadata": {},
   "source": [
    "Read the previous configurations"
   ]
  },
  {
   "cell_type": "code",
   "execution_count": 14,
   "metadata": {},
   "outputs": [],
   "source": [
    "initial = read('N2.traj')\n",
    "final = read('2N.traj')"
   ]
  },
  {
   "cell_type": "markdown",
   "metadata": {},
   "source": [
    "Make 9 images (note the use of copy)"
   ]
  },
  {
   "cell_type": "code",
   "execution_count": 15,
   "metadata": {},
   "outputs": [],
   "source": [
    "configs = [initial.copy() for i in range(8)] + [final]"
   ]
  },
  {
   "cell_type": "markdown",
   "metadata": {},
   "source": [
    "As before, fix the Cu atoms"
   ]
  },
  {
   "cell_type": "code",
   "execution_count": 16,
   "metadata": {},
   "outputs": [],
   "source": [
    "constraint = FixAtoms(mask=[atom.symbol != 'N' for atom in initial])\n",
    "for config in configs:\n",
    "    config.set_calculator(EMT())\n",
    "    config.set_constraint(constraint)"
   ]
  },
  {
   "cell_type": "markdown",
   "metadata": {},
   "source": [
    "Make the NEB object, interpolate to guess the intermediate steps"
   ]
  },
  {
   "cell_type": "code",
   "execution_count": 17,
   "metadata": {},
   "outputs": [],
   "source": [
    "band = NEB(configs)\n",
    "band.interpolate()"
   ]
  },
  {
   "cell_type": "code",
   "execution_count": 18,
   "metadata": {},
   "outputs": [],
   "source": [
    "relax = QuasiNewton(band)"
   ]
  },
  {
   "cell_type": "markdown",
   "metadata": {},
   "source": [
    "Do the calculation"
   ]
  },
  {
   "cell_type": "code",
   "execution_count": 19,
   "metadata": {},
   "outputs": [
    {
     "name": "stdout",
     "output_type": "stream",
     "text": [
      "      Step     Time          Energy         fmax\n",
      "*Force-consistent energies used in optimization.\n",
      "FIRE:    0 09:55:22       11.066750*       0.5237\n",
      "FIRE:    1 09:55:23       11.063989*       0.4622\n",
      "FIRE:    2 09:55:24       11.059699*       0.3486\n",
      "FIRE:    3 09:55:26       11.055742*       0.2000\n",
      "FIRE:    4 09:55:27       11.053731*       0.0539\n",
      "FIRE:    5 09:55:28       11.054185*       0.1269\n",
      "FIRE:    6 09:55:30       11.054140*       0.1238\n",
      "FIRE:    7 09:55:31       11.054053*       0.1175\n",
      "FIRE:    8 09:55:32       11.053933*       0.1084\n",
      "FIRE:    9 09:55:33       11.053791*       0.0968\n",
      "FIRE:   10 09:55:35       11.053638*       0.0830\n",
      "FIRE:   11 09:55:36       11.053488*       0.0678\n",
      "FIRE:   12 09:55:37       11.053353*       0.0523\n",
      "FIRE:   13 09:55:38       11.053230*       0.0393\n"
     ]
    },
    {
     "data": {
      "text/plain": [
       "True"
      ]
     },
     "execution_count": 19,
     "metadata": {},
     "output_type": "execute_result"
    }
   ],
   "source": [
    "relax.run()"
   ]
  },
  {
   "cell_type": "markdown",
   "metadata": {},
   "source": [
    "Compare intermediate steps to initial energy"
   ]
  },
  {
   "cell_type": "code",
   "execution_count": 20,
   "metadata": {},
   "outputs": [
    {
     "name": "stdout",
     "output_type": "stream",
     "text": [
      "1.6611276891332658 0.0\n",
      "1.7387967149311636 0.0028614391665460204\n",
      "1.8292016657795054 0.011524494980585942\n",
      "1.9359265718620973 0.01860110017886285\n",
      "2.0549987443423205 0.020279753673730028\n",
      "2.183484274765332 0.01515099730038827\n",
      "2.319173693283099 0.0038119114210726224\n",
      "2.460281837433312 -0.009726934149639987\n",
      "2.611961575822105 -0.015665843307628435\n"
     ]
    }
   ],
   "source": [
    "e0 = initial.get_potential_energy()\n",
    "for config in configs:\n",
    "    d = config[-2].position - config[-1].position\n",
    "    print(np.linalg.norm(d), config.get_potential_energy() - e0)"
   ]
  },
  {
   "cell_type": "markdown",
   "metadata": {},
   "source": [
    "After the calculation is complete, the energy difference with respect to the initial state is given for each image, as well as the distance between the N atoms."
   ]
  }
 ],
 "metadata": {
  "kernelspec": {
   "display_name": "Python 3",
   "language": "python",
   "name": "python3"
  },
  "language_info": {
   "codemirror_mode": {
    "name": "ipython",
    "version": 3
   },
   "file_extension": ".py",
   "mimetype": "text/x-python",
   "name": "python",
   "nbconvert_exporter": "python",
   "pygments_lexer": "ipython3",
   "version": "3.8.2"
  }
 },
 "nbformat": 4,
 "nbformat_minor": 4
}
