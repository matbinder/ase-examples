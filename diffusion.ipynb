{
 "cells": [
  {
   "cell_type": "markdown",
   "metadata": {},
   "source": [
    "# Surface diffusion energy barriers using the Nudged Elastic Band (NEB) method\n",
    "https://wiki.fysik.dtu.dk/ase/tutorials/neb/diffusion.html\n",
    "First, set up the initial and final states:"
   ]
  },
  {
   "cell_type": "code",
   "execution_count": 1,
   "metadata": {},
   "outputs": [],
   "source": [
    "from ase.build import fcc100, add_adsorbate\n",
    "from ase.constraints import FixAtoms\n",
    "from ase.calculators.emt import EMT\n",
    "from ase.optimize import QuasiNewton"
   ]
  },
  {
   "cell_type": "markdown",
   "metadata": {},
   "source": [
    "2x2-Al(001) surface with 3 layers and an Au atom adsorbed in a hollow site:"
   ]
  },
  {
   "cell_type": "code",
   "execution_count": 2,
   "metadata": {},
   "outputs": [],
   "source": [
    "slab = fcc100('Al', size=(2, 2, 3))\n",
    "add_adsorbate(slab, 'Au', 1.7, 'hollow')\n",
    "slab.center(axis=2, vacuum=4.0)"
   ]
  },
  {
   "cell_type": "markdown",
   "metadata": {},
   "source": [
    "Make sure the structure is correct: `view(slab)`"
   ]
  },
  {
   "cell_type": "markdown",
   "metadata": {},
   "source": [
    "Fix second and third layers:"
   ]
  },
  {
   "cell_type": "code",
   "execution_count": 3,
   "metadata": {},
   "outputs": [
    {
     "name": "stdout",
     "output_type": "stream",
     "text": [
      "[True, True, True, True, True, True, True, True, False, False, False, False, False]\n"
     ]
    }
   ],
   "source": [
    "mask = [atom.tag > 1 for atom in slab]\n",
    "print(mask)\n",
    "slab.set_constraint(FixAtoms(mask=mask))"
   ]
  },
  {
   "cell_type": "raw",
   "metadata": {},
   "source": [
    "Use EMT potential:"
   ]
  },
  {
   "cell_type": "code",
   "execution_count": 4,
   "metadata": {},
   "outputs": [],
   "source": [
    "slab.set_calculator(EMT())"
   ]
  },
  {
   "cell_type": "markdown",
   "metadata": {},
   "source": [
    "Initial state:"
   ]
  },
  {
   "cell_type": "code",
   "execution_count": 5,
   "metadata": {},
   "outputs": [
    {
     "name": "stdout",
     "output_type": "stream",
     "text": [
      "                Step[ FC]     Time          Energy          fmax\n",
      "*Force-consistent energies used in optimization.\n",
      "BFGSLineSearch:    0[  0] 18:13:41        3.323870*       0.2462\n",
      "BFGSLineSearch:    1[  1] 18:13:41        3.314754*       0.0378\n"
     ]
    },
    {
     "data": {
      "text/plain": [
       "True"
      ]
     },
     "execution_count": 5,
     "metadata": {},
     "output_type": "execute_result"
    }
   ],
   "source": [
    "qn = QuasiNewton(slab, trajectory='initial.traj')\n",
    "qn.run(fmax=0.05)"
   ]
  },
  {
   "cell_type": "markdown",
   "metadata": {},
   "source": [
    "Final state:"
   ]
  },
  {
   "cell_type": "code",
   "execution_count": 6,
   "metadata": {},
   "outputs": [
    {
     "name": "stdout",
     "output_type": "stream",
     "text": [
      "                Step[ FC]     Time          Energy          fmax\n",
      "*Force-consistent energies used in optimization.\n",
      "BFGSLineSearch:    0[  0] 18:13:42        3.320051*       0.1208\n",
      "BFGSLineSearch:    1[  1] 18:13:42        3.316117*       0.0474\n"
     ]
    },
    {
     "data": {
      "text/plain": [
       "True"
      ]
     },
     "execution_count": 6,
     "metadata": {},
     "output_type": "execute_result"
    }
   ],
   "source": [
    "slab[-1].x += slab.get_cell()[0, 0] / 2\n",
    "qn = QuasiNewton(slab, trajectory='final.traj')\n",
    "qn.run(fmax=0.05)"
   ]
  },
  {
   "cell_type": "markdown",
   "metadata": {},
   "source": [
    "Now, do the NEB calculation:"
   ]
  },
  {
   "cell_type": "code",
   "execution_count": 7,
   "metadata": {},
   "outputs": [],
   "source": [
    "from ase.io import read\n",
    "from ase.constraints import FixAtoms\n",
    "from ase.calculators.emt import EMT\n",
    "from ase.neb import NEB\n",
    "from ase.optimize import BFGS"
   ]
  },
  {
   "cell_type": "code",
   "execution_count": 8,
   "metadata": {},
   "outputs": [],
   "source": [
    "initial = read('initial.traj')\n",
    "final = read('final.traj')"
   ]
  },
  {
   "cell_type": "code",
   "execution_count": 9,
   "metadata": {},
   "outputs": [],
   "source": [
    "constraint = FixAtoms(mask=[atom.tag > 1 for atom in initial])"
   ]
  },
  {
   "cell_type": "code",
   "execution_count": 10,
   "metadata": {},
   "outputs": [],
   "source": [
    "images = [initial]\n",
    "for i in range(3):\n",
    "    image = initial.copy()\n",
    "    image.set_calculator(EMT())\n",
    "    image.set_constraint(constraint)\n",
    "    images.append(image)"
   ]
  },
  {
   "cell_type": "code",
   "execution_count": 11,
   "metadata": {},
   "outputs": [],
   "source": [
    "images.append(final)"
   ]
  },
  {
   "cell_type": "code",
   "execution_count": null,
   "metadata": {},
   "outputs": [
    {
     "name": "stdout",
     "output_type": "stream",
     "text": [
      "      Step     Time          Energy         fmax\n",
      "BFGS:    0 18:13:46        4.219952        3.5208\n",
      "BFGS:    1 18:13:49        3.983963        2.4270\n",
      "BFGS:    2 18:13:52        3.830638        1.5293\n"
     ]
    }
   ],
   "source": [
    "neb = NEB(images)\n",
    "neb.interpolate()\n",
    "qn = BFGS(neb, trajectory='neb.traj')\n",
    "qn.run(fmax=0.05)"
   ]
  },
  {
   "cell_type": "markdown",
   "metadata": {},
   "source": [
    "You can also analyze within a python script, which can be useful particularly if you are analyzing the output of many NEB jobs, with the `ase.neb.NEBTools` class. Some examples of its use are below; the final example was used to make the figure you see above."
   ]
  },
  {
   "cell_type": "code",
   "execution_count": null,
   "metadata": {},
   "outputs": [],
   "source": [
    "import matplotlib.pyplot as plt\n",
    "from ase.neb import NEBTools\n",
    "from ase.io import read"
   ]
  },
  {
   "cell_type": "code",
   "execution_count": null,
   "metadata": {},
   "outputs": [],
   "source": [
    "images = read('neb.traj@-5:')"
   ]
  },
  {
   "cell_type": "code",
   "execution_count": null,
   "metadata": {},
   "outputs": [],
   "source": [
    "nebtools = NEBTools(images)"
   ]
  },
  {
   "cell_type": "markdown",
   "metadata": {},
   "source": [
    "Get the calculated barrier and the energy change of the reaction."
   ]
  },
  {
   "cell_type": "code",
   "execution_count": null,
   "metadata": {},
   "outputs": [],
   "source": [
    "Ef, dE = nebtools.get_barrier()"
   ]
  },
  {
   "cell_type": "markdown",
   "metadata": {},
   "source": [
    "Get the barrier without any interpolation between highest images."
   ]
  },
  {
   "cell_type": "code",
   "execution_count": null,
   "metadata": {},
   "outputs": [],
   "source": [
    "Ef, dE = nebtools.get_barrier(fit=False)"
   ]
  },
  {
   "cell_type": "markdown",
   "metadata": {},
   "source": [
    "Get the actual maximum force at this point in the simulation."
   ]
  },
  {
   "cell_type": "code",
   "execution_count": null,
   "metadata": {},
   "outputs": [],
   "source": [
    "max_force = nebtools.get_fmax()"
   ]
  },
  {
   "cell_type": "markdown",
   "metadata": {},
   "source": [
    "Create a figure like that coming from ASE-GUI."
   ]
  },
  {
   "cell_type": "code",
   "execution_count": null,
   "metadata": {},
   "outputs": [],
   "source": [
    "fig = nebtools.plot_band()\n",
    "fig.savefig('diffusion-barrier.png')"
   ]
  },
  {
   "cell_type": "markdown",
   "metadata": {},
   "source": [
    "Create a figure with custom parameters."
   ]
  },
  {
   "cell_type": "code",
   "execution_count": null,
   "metadata": {},
   "outputs": [],
   "source": [
    "fig = plt.figure(figsize=(5.5, 4.0))\n",
    "ax = fig.add_axes((0.15, 0.15, 0.8, 0.75))\n",
    "nebtools.plot_band(ax)\n",
    "fig.savefig('diffusion-barrier.png')"
   ]
  }
 ],
 "metadata": {
  "kernelspec": {
   "display_name": "Python 3",
   "language": "python",
   "name": "python3"
  },
  "language_info": {
   "codemirror_mode": {
    "name": "ipython",
    "version": 3
   },
   "file_extension": ".py",
   "mimetype": "text/x-python",
   "name": "python",
   "nbconvert_exporter": "python",
   "pygments_lexer": "ipython3",
   "version": "3.8.2"
  }
 },
 "nbformat": 4,
 "nbformat_minor": 4
}
