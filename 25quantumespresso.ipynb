{
 "cells": [
  {
   "cell_type": "markdown",
   "metadata": {},
   "source": [
    "Based on https://wiki.fysik.dtu.dk/ase/ase/calculators/espresso.html "
   ]
  },
  {
   "cell_type": "code",
   "execution_count": 1,
   "metadata": {},
   "outputs": [],
   "source": [
    "import os \n",
    "os.environ[\"ASE_ESPRESSO_COMMAND\"] = \"mpirun -np 1 pw.x -in PREFIX.pwi > PREFIX.pwo\"\n",
    "os.environ[\"ESPRESSO_PSEUDO\"] = \"/home/jovyan/resources/espresso/pseudo/\""
   ]
  },
  {
   "cell_type": "code",
   "execution_count": 2,
   "metadata": {},
   "outputs": [],
   "source": [
    "from ase.build import bulk\n",
    "from ase.calculators.espresso import Espresso\n",
    "from ase.constraints import UnitCellFilter\n",
    "from ase.optimize import LBFGS"
   ]
  },
  {
   "cell_type": "code",
   "execution_count": 3,
   "metadata": {},
   "outputs": [],
   "source": [
    "pseudopotentials = {'Na': 'Na.pbe-spn-rrkjus_psl.1.0.0.UPF',\n",
    "                    'Cl': 'Cl.pbe-nl-rrkjus_psl.1.0.0.UPF'}"
   ]
  },
  {
   "cell_type": "code",
   "execution_count": 4,
   "metadata": {},
   "outputs": [],
   "source": [
    "rocksalt = bulk('NaCl', crystalstructure='rocksalt', a=6.0)\n",
    "calc = Espresso(pseudopotentials=pseudopotentials,\n",
    "                tstress=True, tprnfor=True, kpts=(3, 3, 3))\n",
    "rocksalt.calc = calc"
   ]
  },
  {
   "cell_type": "code",
   "execution_count": 5,
   "metadata": {},
   "outputs": [
    {
     "name": "stdout",
     "output_type": "stream",
     "text": [
      "       Step     Time          Energy         fmax\n",
      "LBFGS:    0 07:21:38    -1742.924891        0.5339\n",
      "LBFGS:    1 07:22:15    -1742.933279        0.5104\n",
      "LBFGS:    2 07:22:53    -1742.972401        0.3546\n",
      "LBFGS:    3 07:23:30    -1742.989354        0.1545\n",
      "LBFGS:    4 07:24:04    -1742.984174        0.0224\n",
      "LBFGS:    5 07:24:40    -1742.986409        0.0039\n"
     ]
    },
    {
     "data": {
      "text/plain": [
       "True"
      ]
     },
     "execution_count": 5,
     "metadata": {},
     "output_type": "execute_result"
    }
   ],
   "source": [
    "ucf = UnitCellFilter(rocksalt)\n",
    "opt = LBFGS(ucf)\n",
    "opt.run(fmax=0.005)"
   ]
  },
  {
   "cell_type": "code",
   "execution_count": 6,
   "metadata": {},
   "outputs": [
    {
     "name": "stdout",
     "output_type": "stream",
     "text": [
      "5.656196355725092\n"
     ]
    }
   ],
   "source": [
    "# cubic lattic constant\n",
    "print((8*rocksalt.get_volume()/len(rocksalt))**(1.0/3.0))"
   ]
  },
  {
   "cell_type": "code",
   "execution_count": null,
   "metadata": {},
   "outputs": [],
   "source": []
  }
 ],
 "metadata": {
  "kernelspec": {
   "display_name": "Python 3",
   "language": "python",
   "name": "python3"
  },
  "language_info": {
   "codemirror_mode": {
    "name": "ipython",
    "version": 3
   },
   "file_extension": ".py",
   "mimetype": "text/x-python",
   "name": "python",
   "nbconvert_exporter": "python",
   "pygments_lexer": "ipython3",
   "version": "3.8.2"
  }
 },
 "nbformat": 4,
 "nbformat_minor": 4
}
