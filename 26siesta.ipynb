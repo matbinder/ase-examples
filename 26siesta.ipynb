{
 "cells": [
  {
   "cell_type": "markdown",
   "metadata": {},
   "source": [
    "Based on https://wiki.fysik.dtu.dk/ase/ase/calculators/siesta.html"
   ]
  },
  {
   "cell_type": "code",
   "execution_count": null,
   "metadata": {},
   "outputs": [],
   "source": [
    "import os\n",
    "from ase import Atoms\n",
    "from ase.calculators.siesta import Siesta\n",
    "from ase.units import Ry"
   ]
  },
  {
   "cell_type": "code",
   "execution_count": null,
   "metadata": {},
   "outputs": [],
   "source": [
    "a0 = 5.43\n",
    "bulk = Atoms(\n",
    "    'Si2', \n",
    "    [(0, 0, 0), (0.25, 0.25, 0.25)],\n",
    "    pbc=True\n",
    ")\n",
    "b = a0 / 2\n",
    "bulk.set_cell(\n",
    "    [(0, b, b), (b, 0, b), (b, b, 0)], \n",
    "    scale_atoms=True\n",
    ")"
   ]
  },
  {
   "cell_type": "code",
   "execution_count": null,
   "metadata": {},
   "outputs": [],
   "source": [
    "calc = Siesta(\n",
    "    label='Si',\n",
    "    xc='PBE',\n",
    "    mesh_cutoff=200 * Ry,\n",
    "    energy_shift=0.01 * Ry,\n",
    "    basis_set='DZ',\n",
    "    kpts=[10, 10, 10],\n",
    "    fdf_arguments={\n",
    "        'DM.MixingWeight': 0.1,\n",
    "        'MaxSCFIterations': 100\n",
    "    },\n",
    "    pseudo_path=os.path.join(os.path.abspath('.'), 'resources', 'siesta'),\n",
    "    pseudo_qualifier=''\n",
    ")\n",
    "bulk.set_calculator(calc)"
   ]
  },
  {
   "cell_type": "code",
   "execution_count": null,
   "metadata": {},
   "outputs": [],
   "source": [
    "bulk.get_potential_energy()"
   ]
  }
 ],
 "metadata": {
  "kernelspec": {
   "display_name": "Python 3",
   "language": "python",
   "name": "python3"
  },
  "language_info": {
   "codemirror_mode": {
    "name": "ipython",
    "version": 3
   },
   "file_extension": ".py",
   "mimetype": "text/x-python",
   "name": "python",
   "nbconvert_exporter": "python",
   "pygments_lexer": "ipython3",
   "version": "3.7.6"
  }
 },
 "nbformat": 4,
 "nbformat_minor": 2
}
