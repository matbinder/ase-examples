{
 "cells": [
  {
   "cell_type": "markdown",
   "metadata": {},
   "source": [
    "# Equilibrating an MD box of acetonitrile\n",
    "https://wiki.fysik.dtu.dk/ase/tutorials/acn_equil/acn_equil.html\n",
    "\n",
    "In this tutorial we see how to perform a thermal equilibration of an MD box of classical acetonitrile molecules using the Langevin module and the implementation of an acetonitrile force field in ASE.\n",
    "\n",
    "The acetonitrile force field implemented in ASE (`ase.calculators.acn`) is an interaction potential between three-site linear molecules, in which the atoms of the methyl group are treated as a single site centered on the methyl carbon, i.e. hydrogens are not considered explicitely. For this reason, while setting up a box of acetonitrile one has to assign the mass of a methyl to the outer carbon atom. The calculator requires the atomic sequence to be MeCN … MeCN or NCMeNCMe … NCMe, where Me represents the methyl site.\n",
    "\n",
    "As for the TIPnP models, the acetonitrile potential works with rigid molecules. However, due to the linearity of the acetonitrile molecular model, we cannot fix the geometry by constraining all interatomic distances using `FixBondLengths`, as is done for TIPnP water. Instead, we must use the class `FixLinearTriatomic`\n",
    "\n",
    "The MD procedure we use for the equilibration closely follows the one presented in the tutorial Equilibrating a TIPnP Water Box."
   ]
  },
  {
   "cell_type": "code",
   "execution_count": 1,
   "metadata": {},
   "outputs": [],
   "source": [
    "from ase import Atoms\n",
    "from ase.constraints import FixLinearTriatomic\n",
    "from ase.calculators.acn import (ACN, m_me,\n",
    "                                 r_mec, r_cn)\n",
    "from ase.md import Langevin\n",
    "import ase.units as units\n",
    "from ase.io import Trajectory"
   ]
  },
  {
   "cell_type": "code",
   "execution_count": 2,
   "metadata": {},
   "outputs": [],
   "source": [
    "import numpy as np"
   ]
  },
  {
   "cell_type": "code",
   "execution_count": 3,
   "metadata": {},
   "outputs": [],
   "source": [
    "pos = [[0, 0, -r_mec],\n",
    "       [0, 0, 0],\n",
    "       [0, 0, r_cn]]\n",
    "atoms = Atoms('CCN', positions=pos)\n",
    "atoms.rotate(30, 'x')"
   ]
  },
  {
   "cell_type": "markdown",
   "metadata": {},
   "source": [
    "First C of each molecule needs to have the mass of a methyl group"
   ]
  },
  {
   "cell_type": "code",
   "execution_count": 4,
   "metadata": {},
   "outputs": [],
   "source": [
    "masses = atoms.get_masses()\n",
    "masses[::3] = m_me\n",
    "atoms.set_masses(masses)"
   ]
  },
  {
   "cell_type": "markdown",
   "metadata": {},
   "source": [
    "Determine side length of a box with the density of acetonitrile at 298 K"
   ]
  },
  {
   "cell_type": "code",
   "execution_count": 5,
   "metadata": {},
   "outputs": [],
   "source": [
    "d = 0.776 / 1e24 # Density in g/Ang3 (https://pubs.acs.org/doi/10.1021/je00001a006)\n",
    "L = ((masses.sum() / units.mol) / d)**(1 / 3.)"
   ]
  },
  {
   "cell_type": "markdown",
   "metadata": {},
   "source": [
    "Set up box of 27 acetonitrile molecules "
   ]
  },
  {
   "cell_type": "code",
   "execution_count": 6,
   "metadata": {},
   "outputs": [],
   "source": [
    "atoms.set_cell((L, L, L))\n",
    "atoms.center()\n",
    "atoms = atoms.repeat((3, 3, 3))\n",
    "atoms.set_pbc(True)"
   ]
  },
  {
   "cell_type": "markdown",
   "metadata": {},
   "source": [
    "Set constraints for rigid triatomic molecules"
   ]
  },
  {
   "cell_type": "code",
   "execution_count": 7,
   "metadata": {},
   "outputs": [],
   "source": [
    "nm = 27\n",
    "atoms.constraints = FixLinearTriatomic(\n",
    "                    triples=[(3 * i, 3 * i + 1, 3 * i + 2)\n",
    "                             for i in range(nm)])"
   ]
  },
  {
   "cell_type": "code",
   "execution_count": 8,
   "metadata": {},
   "outputs": [],
   "source": [
    "tag = 'acn_27mol_300K'\n",
    "atoms.calc = ACN(rc=np.min(np.diag(atoms.cell))/2)"
   ]
  },
  {
   "cell_type": "markdown",
   "metadata": {},
   "source": [
    "Create Langevin object "
   ]
  },
  {
   "cell_type": "code",
   "execution_count": 9,
   "metadata": {},
   "outputs": [],
   "source": [
    "md = Langevin(atoms, 1 * units.fs, \n",
    "              temperature=300 * units.kB,\n",
    "              friction=0.01, \n",
    "              logfile=tag + '.log')"
   ]
  },
  {
   "cell_type": "code",
   "execution_count": null,
   "metadata": {},
   "outputs": [],
   "source": [
    "traj = Trajectory(tag + '.traj', 'w', atoms)\n",
    "md.attach(traj.write, interval=1)\n",
    "md.run(5000)"
   ]
  },
  {
   "cell_type": "markdown",
   "metadata": {},
   "source": [
    "Repeat box and equilibrate further"
   ]
  },
  {
   "cell_type": "code",
   "execution_count": null,
   "metadata": {},
   "outputs": [],
   "source": [
    "atoms.set_constraint()\n",
    "atoms = atoms.repeat((2, 2, 2))\n",
    "nm = 216\n",
    "atoms.constraints = FixLinearTriatomic(\n",
    "                    triples=[(3 * i, 3 * i + 1, 3 * i + 2)\n",
    "                             for i in range(nm)])"
   ]
  },
  {
   "cell_type": "code",
   "execution_count": null,
   "metadata": {},
   "outputs": [],
   "source": [
    "tag = 'acn_216mol_300K'\n",
    "atoms.calc = ACN(rc=np.min(np.diag(atoms.cell))/2)"
   ]
  },
  {
   "cell_type": "markdown",
   "metadata": {},
   "source": [
    "Create Langevin object"
   ]
  },
  {
   "cell_type": "code",
   "execution_count": null,
   "metadata": {},
   "outputs": [],
   "source": [
    "md = Langevin(atoms, 2 * units.fs,\n",
    "              temperature=300 * units.kB,\n",
    "              friction=0.01,\n",
    "              logfile=tag + '.log')"
   ]
  },
  {
   "cell_type": "code",
   "execution_count": null,
   "metadata": {},
   "outputs": [],
   "source": [
    "traj = Trajectory(tag + '.traj', 'w', atoms)\n",
    "md.attach(traj.write, interval=1)\n",
    "md.run(3000)"
   ]
  }
 ],
 "metadata": {
  "kernelspec": {
   "display_name": "Python 3",
   "language": "python",
   "name": "python3"
  },
  "language_info": {
   "codemirror_mode": {
    "name": "ipython",
    "version": 3
   },
   "file_extension": ".py",
   "mimetype": "text/x-python",
   "name": "python",
   "nbconvert_exporter": "python",
   "pygments_lexer": "ipython3",
   "version": "3.8.2"
  }
 },
 "nbformat": 4,
 "nbformat_minor": 4
}
