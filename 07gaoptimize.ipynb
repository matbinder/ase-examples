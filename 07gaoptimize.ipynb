{
 "cells": [
  {
   "cell_type": "markdown",
   "metadata": {},
   "source": [
    "# Optimization with a Genetic Algorithm\n",
    "https://wiki.fysik.dtu.dk/ase/tutorials/ga/ga_optimize.html\n",
    "A genetic algorithm (GA) has been implemented for global structure optimization within ase. The optimizer consists of its own module ase.ga which includes all classes needed for the optimizer."
   ]
  },
  {
   "cell_type": "markdown",
   "metadata": {},
   "source": [
    "# A Brief Overview of the Implementation\n",
    "The GA relies on the ase.db module for tracking which structures have been found. Before the GA optimization starts the user therefore needs to prepare this database and appropriate folders. This is done through an initialization script as the one described in the next section. In this initialization the starting population is generated and added to the database.\n",
    "\n",
    "After initialization the main script is run. This script defines objects responsible for the different parts of the GA and then creates and locally relaxes new candidates. It is up to the user to define when the main script should terminate. An example of a main script is given in the next section. Notice that because of the persistent data storage the main script can be executed multiple times to generate new candidates.\n",
    "\n",
    "The GA implementation generally follows a responsibility driven approach. This means that each part of the GA is isolated into individual classes making it possible to put together an optimizer satisfying the needs of a specific optimization problem.\n",
    "\n",
    "This tutorial will use the following parts of the GA:\n",
    "\n",
    "*  A population responsible for proposing new candidates to pair together.\n",
    "*  A paring operator which combines two candidates.\n",
    "*  A set of mutations.\n",
    "*  A comparator which determines if two structures are different.\n",
    "*  A starting population generator.\n",
    "\n",
    "Each of the above components are described in the supplemental material of the first reference given above and will not be discussed here. The example will instead focus on the technical aspect of executing the GA."
   ]
  },
  {
   "cell_type": "markdown",
   "metadata": {},
   "source": [
    "# A Basic Example\n",
    "The user needs to specify the following three properties about the structure that needs to be optimized.\n",
    "\n",
    "*  A list of atomic numbers for the structure to be optimized\n",
    "*  A super cell in which to do the optimization. If the structure to optimize resides on a surface or in a support this supercell contains the atoms which should not be considered explicitly by the GA.\n",
    "*  A box defining the volume of the super cell in which to randomly distribute the starting population.\n",
    "\n",
    "As an example we will find the structure of a Ag2Au2 cluster on a Au(111) surface using the EMT optimizer.\n",
    "\n",
    "The script doing all the initialisations should be run in the folder in which the GA optimisation is to take place. The script looks as follows:"
   ]
  },
  {
   "cell_type": "code",
   "execution_count": 1,
   "metadata": {},
   "outputs": [],
   "source": [
    "from ase.ga.data import PrepareDB\n",
    "from ase.ga.startgenerator import StartGenerator\n",
    "from ase.ga.utilities import closest_distances_generator\n",
    "from ase.ga.utilities import get_all_atom_types\n",
    "from ase.constraints import FixAtoms\n",
    "import numpy as np\n",
    "from ase.build import fcc111"
   ]
  },
  {
   "cell_type": "code",
   "execution_count": 2,
   "metadata": {},
   "outputs": [],
   "source": [
    "db_file = 'gadb.db'"
   ]
  },
  {
   "cell_type": "markdown",
   "metadata": {},
   "source": [
    "create the surface"
   ]
  },
  {
   "cell_type": "code",
   "execution_count": 3,
   "metadata": {},
   "outputs": [],
   "source": [
    "slab = fcc111('Au', size=(4, 4, 1), vacuum=10.0, orthogonal=True)\n",
    "slab.set_constraint(FixAtoms(mask=len(slab) * [True]))"
   ]
  },
  {
   "cell_type": "markdown",
   "metadata": {},
   "source": [
    "define the volume in which the adsorbed cluster is optimized the volume is defined by a corner position (p0) and three spanning vectors (v1, v2, v3)"
   ]
  },
  {
   "cell_type": "code",
   "execution_count": 4,
   "metadata": {},
   "outputs": [],
   "source": [
    "pos = slab.get_positions()\n",
    "cell = slab.get_cell()\n",
    "p0 = np.array([0., 0., max(pos[:, 2]) + 2.])\n",
    "v1 = cell[0, :] * 0.8\n",
    "v2 = cell[1, :] * 0.8\n",
    "v3 = cell[2, :]\n",
    "v3[2] = 3."
   ]
  },
  {
   "cell_type": "markdown",
   "metadata": {},
   "source": [
    "Define the composition of the atoms to optimize"
   ]
  },
  {
   "cell_type": "code",
   "execution_count": 5,
   "metadata": {},
   "outputs": [],
   "source": [
    "atom_numbers = 2 * [47] + 2 * [79]"
   ]
  },
  {
   "cell_type": "markdown",
   "metadata": {},
   "source": [
    "define the closest distance two atoms of a given species can be to each other"
   ]
  },
  {
   "cell_type": "code",
   "execution_count": 6,
   "metadata": {},
   "outputs": [],
   "source": [
    "unique_atom_types = get_all_atom_types(slab, atom_numbers)\n",
    "cd = closest_distances_generator(atom_numbers=unique_atom_types,\n",
    "                                 ratio_of_covalent_radii=0.7)"
   ]
  },
  {
   "cell_type": "markdown",
   "metadata": {},
   "source": [
    "create the starting population"
   ]
  },
  {
   "cell_type": "code",
   "execution_count": 7,
   "metadata": {},
   "outputs": [],
   "source": [
    "sg = StartGenerator(slab=slab,\n",
    "                    atom_numbers=atom_numbers,\n",
    "                    closest_allowed_distances=cd,\n",
    "                    box_to_place_in=[p0, [v1, v2, v3]])"
   ]
  },
  {
   "cell_type": "markdown",
   "metadata": {},
   "source": [
    "generate the starting population"
   ]
  },
  {
   "cell_type": "code",
   "execution_count": 8,
   "metadata": {},
   "outputs": [],
   "source": [
    "population_size = 20\n",
    "starting_population = [sg.get_new_candidate() for i in range(population_size)]"
   ]
  },
  {
   "cell_type": "raw",
   "metadata": {},
   "source": [
    "from ase.visualize import view   # uncomment these lines\n",
    "view(starting_population)        # to see the starting population"
   ]
  },
  {
   "cell_type": "markdown",
   "metadata": {},
   "source": [
    "create the database to store information in"
   ]
  },
  {
   "cell_type": "code",
   "execution_count": 9,
   "metadata": {},
   "outputs": [],
   "source": [
    "d = PrepareDB(db_file_name=db_file,\n",
    "              simulation_cell=slab,\n",
    "              stoichiometry=atom_numbers)"
   ]
  },
  {
   "cell_type": "code",
   "execution_count": 10,
   "metadata": {},
   "outputs": [],
   "source": [
    "for a in starting_population:\n",
    "    d.add_unrelaxed_candidate(a)"
   ]
  },
  {
   "cell_type": "markdown",
   "metadata": {},
   "source": [
    "Having initialized the GA optimization we now need to actually run the GA. The main script running the GA consists of first an initialization part, and then a loop proposing new structures and locally optimizing them. The main script can look as follows:"
   ]
  },
  {
   "cell_type": "code",
   "execution_count": 11,
   "metadata": {},
   "outputs": [],
   "source": [
    "from random import random\n",
    "from ase.io import write\n",
    "from ase.optimize import BFGS\n",
    "from ase.calculators.emt import EMT"
   ]
  },
  {
   "cell_type": "code",
   "execution_count": 12,
   "metadata": {},
   "outputs": [],
   "source": [
    "from ase.ga.data import DataConnection\n",
    "from ase.ga.population import Population\n",
    "from ase.ga.standard_comparators import InteratomicDistanceComparator\n",
    "from ase.ga.cutandsplicepairing import CutAndSplicePairing\n",
    "from ase.ga.utilities import closest_distances_generator\n",
    "from ase.ga.utilities import get_all_atom_types\n",
    "from ase.ga.offspring_creator import OperationSelector\n",
    "from ase.ga.standardmutations import MirrorMutation\n",
    "from ase.ga.standardmutations import RattleMutation\n",
    "from ase.ga.standardmutations import PermutationMutation"
   ]
  },
  {
   "cell_type": "markdown",
   "metadata": {},
   "source": [
    "Change the following three parameters to suit your needs"
   ]
  },
  {
   "cell_type": "code",
   "execution_count": 13,
   "metadata": {},
   "outputs": [],
   "source": [
    "population_size = 20\n",
    "mutation_probability = 0.3\n",
    "n_to_test = 20"
   ]
  },
  {
   "cell_type": "markdown",
   "metadata": {},
   "source": [
    "Initialize the different components of the GA"
   ]
  },
  {
   "cell_type": "code",
   "execution_count": 14,
   "metadata": {},
   "outputs": [],
   "source": [
    "da = DataConnection('gadb.db')\n",
    "atom_numbers_to_optimize = da.get_atom_numbers_to_optimize()\n",
    "n_to_optimize = len(atom_numbers_to_optimize)\n",
    "slab = da.get_slab()\n",
    "all_atom_types = get_all_atom_types(slab, atom_numbers_to_optimize)\n",
    "blmin = closest_distances_generator(all_atom_types,\n",
    "                                    ratio_of_covalent_radii=0.7)"
   ]
  },
  {
   "cell_type": "code",
   "execution_count": 15,
   "metadata": {},
   "outputs": [],
   "source": [
    "comp = InteratomicDistanceComparator(n_top=n_to_optimize,\n",
    "                                     pair_cor_cum_diff=0.015,\n",
    "                                     pair_cor_max=0.7,\n",
    "                                     dE=0.02,\n",
    "                                     mic=False)"
   ]
  },
  {
   "cell_type": "code",
   "execution_count": 16,
   "metadata": {},
   "outputs": [],
   "source": [
    "pairing = CutAndSplicePairing(slab, n_to_optimize, blmin)\n",
    "mutations = OperationSelector([1., 1., 1.],\n",
    "                              [MirrorMutation(blmin, n_to_optimize),\n",
    "                               RattleMutation(blmin, n_to_optimize),\n",
    "                               PermutationMutation(n_to_optimize)])"
   ]
  },
  {
   "cell_type": "markdown",
   "metadata": {},
   "source": [
    "Relax all unrelaxed structures (e.g. the starting population)"
   ]
  },
  {
   "cell_type": "code",
   "execution_count": 17,
   "metadata": {},
   "outputs": [
    {
     "name": "stdout",
     "output_type": "stream",
     "text": [
      "Relaxing starting candidate 2\n",
      "Relaxing starting candidate 3\n",
      "Relaxing starting candidate 4\n",
      "Relaxing starting candidate 5\n",
      "Relaxing starting candidate 6\n",
      "Relaxing starting candidate 7\n",
      "Relaxing starting candidate 8\n",
      "Relaxing starting candidate 9\n",
      "Relaxing starting candidate 10\n",
      "Relaxing starting candidate 11\n",
      "Relaxing starting candidate 12\n",
      "Relaxing starting candidate 13\n",
      "Relaxing starting candidate 14\n",
      "Relaxing starting candidate 15\n",
      "Relaxing starting candidate 16\n",
      "Relaxing starting candidate 17\n",
      "Relaxing starting candidate 18\n",
      "Relaxing starting candidate 19\n",
      "Relaxing starting candidate 20\n",
      "Relaxing starting candidate 21\n"
     ]
    }
   ],
   "source": [
    "while da.get_number_of_unrelaxed_candidates() > 0:\n",
    "    a = da.get_an_unrelaxed_candidate()\n",
    "    a.set_calculator(EMT())\n",
    "    print('Relaxing starting candidate {0}'.format(a.info['confid']))\n",
    "    dyn = BFGS(a, trajectory=None, logfile=None)\n",
    "    dyn.run(fmax=0.05, steps=100)\n",
    "    a.info['key_value_pairs']['raw_score'] = -a.get_potential_energy()\n",
    "    da.add_relaxed_step(a)"
   ]
  },
  {
   "cell_type": "markdown",
   "metadata": {},
   "source": [
    "create the population"
   ]
  },
  {
   "cell_type": "code",
   "execution_count": 18,
   "metadata": {},
   "outputs": [],
   "source": [
    "population = Population(data_connection=da,\n",
    "                        population_size=population_size,\n",
    "                        comparator=comp)"
   ]
  },
  {
   "cell_type": "markdown",
   "metadata": {},
   "source": [
    "test n_to_test new candidates"
   ]
  },
  {
   "cell_type": "code",
   "execution_count": 19,
   "metadata": {},
   "outputs": [
    {
     "name": "stdout",
     "output_type": "stream",
     "text": [
      "Now starting configuration number 0\n",
      "Now starting configuration number 1\n",
      "Now starting configuration number 2\n",
      "Now starting configuration number 3\n",
      "Now starting configuration number 4\n",
      "Now starting configuration number 5\n",
      "Now starting configuration number 6\n",
      "Now starting configuration number 7\n",
      "Now starting configuration number 8\n",
      "Now starting configuration number 9\n",
      "Now starting configuration number 10\n",
      "Now starting configuration number 11\n",
      "Now starting configuration number 12\n",
      "Now starting configuration number 13\n",
      "Now starting configuration number 14\n",
      "Now starting configuration number 15\n",
      "Now starting configuration number 16\n",
      "Now starting configuration number 17\n",
      "Now starting configuration number 18\n",
      "Now starting configuration number 19\n"
     ]
    }
   ],
   "source": [
    "for i in range(n_to_test):\n",
    "    print('Now starting configuration number {0}'.format(i))\n",
    "    a1, a2 = population.get_two_candidates()\n",
    "    a3, desc = pairing.get_new_individual([a1, a2])\n",
    "    if a3 is None:\n",
    "        continue\n",
    "    da.add_unrelaxed_candidate(a3, description=desc)\n",
    "\n",
    "    # Check if we want to do a mutation\n",
    "    if random() < mutation_probability:\n",
    "        a3_mut, desc = mutations.get_new_individual([a3])\n",
    "        if a3_mut is not None:\n",
    "            da.add_unrelaxed_step(a3_mut, desc)\n",
    "            a3 = a3_mut\n",
    "        \n",
    "    # Relax the new candidate\n",
    "    a3.set_calculator(EMT())\n",
    "    dyn = BFGS(a3, trajectory=None, logfile=None)\n",
    "    dyn.run(fmax=0.05, steps=100)\n",
    "    a3.info['key_value_pairs']['raw_score'] = -a3.get_potential_energy()\n",
    "    da.add_relaxed_step(a3)\n",
    "    population.update()"
   ]
  },
  {
   "cell_type": "code",
   "execution_count": 20,
   "metadata": {},
   "outputs": [],
   "source": [
    "write('all_candidates.traj', da.get_all_relaxed_candidates())"
   ]
  },
  {
   "cell_type": "markdown",
   "metadata": {},
   "source": [
    "The above script proposes and locally relaxes 20 new candidates. To speed up the execution of this sample the local relaxations are limited to 100 steps. This restriction should not be set in a real application. Note it is important to set the the `raw_score`, as it is what is being optimized (maximized). It is really an input in the `atoms.info['key_value_pairs']` dictionary.\n",
    "\n",
    "The GA progress can be monitored by running the tool `ase/ga/tools/get_all_candidates` in the same folder as the GA. This will create a trajectory file `all_candidates.traj` which includes all locally relaxed candidates the GA has tried. This script can be run at the same time as the main script is running. This is possible because the ase.db database is being updated as the GA progresses."
   ]
  },
  {
   "cell_type": "code",
   "execution_count": null,
   "metadata": {},
   "outputs": [],
   "source": []
  }
 ],
 "metadata": {
  "kernelspec": {
   "display_name": "Python 3",
   "language": "python",
   "name": "python3"
  },
  "language_info": {
   "codemirror_mode": {
    "name": "ipython",
    "version": 3
   },
   "file_extension": ".py",
   "mimetype": "text/x-python",
   "name": "python",
   "nbconvert_exporter": "python",
   "pygments_lexer": "ipython3",
   "version": "3.8.2"
  }
 },
 "nbformat": 4,
 "nbformat_minor": 4
}
