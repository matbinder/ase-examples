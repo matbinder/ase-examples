{
 "cells": [
  {
   "cell_type": "markdown",
   "metadata": {},
   "source": [
    "# Equilibrating a TIPnP Water Box\n",
    "https://wiki.fysik.dtu.dk/ase/tutorials/tipnp_equil/tipnp_equil.html\n",
    "\n",
    "This tutorial shows how to use the TIP3P and TIP4P force fields in ASE.\n",
    "\n",
    "Since the TIPnP type water interpotentials are for rigid molecules, there are no intramolecular force terms, and we need to constrain all internal degrees of freedom. For this, we’re using the RATTLE-type constraints of the The FixBondLengths class class to constrain all internal atomic distances (O-H1, O-H2, and H1-H2) for each molecule.\n",
    "\n",
    "The box is equillibrated with the Langevin thermostat.\n",
    "\n",
    "For efficiency, we first equillibrate a smaller box, and then repeat that once more for the final equillibration. However, the potentials are not parallelized, and are mainly included for testing and for use with QM/MM tasks, so expect to let it run for some time.\n",
    "\n",
    "The following is for TIP3P:"
   ]
  },
  {
   "cell_type": "code",
   "execution_count": 1,
   "metadata": {},
   "outputs": [],
   "source": [
    "from ase import Atoms\n",
    "from ase.constraints import FixBondLengths\n",
    "from ase.calculators.tip3p import TIP3P, rOH, angleHOH\n",
    "from ase.md import Langevin\n",
    "import ase.units as units\n",
    "from ase.io.trajectory import Trajectory\n",
    "import numpy as np"
   ]
  },
  {
   "cell_type": "markdown",
   "metadata": {},
   "source": [
    "Set up water box at 20 deg C density"
   ]
  },
  {
   "cell_type": "code",
   "execution_count": 2,
   "metadata": {},
   "outputs": [],
   "source": [
    "x = angleHOH * np.pi / 180 / 2\n",
    "pos = [[0, 0, 0],\n",
    "       [0, rOH * np.cos(x), rOH * np.sin(x)],\n",
    "       [0, rOH * np.cos(x), -rOH * np.sin(x)]]\n",
    "atoms = Atoms('OH2', positions=pos)"
   ]
  },
  {
   "cell_type": "code",
   "execution_count": 3,
   "metadata": {},
   "outputs": [],
   "source": [
    "vol = ((18.01528 / 6.022140857e23) / (0.9982 / 1e24))**(1 / 3.)\n",
    "atoms.set_cell((vol, vol, vol))\n",
    "atoms.center()"
   ]
  },
  {
   "cell_type": "code",
   "execution_count": 4,
   "metadata": {},
   "outputs": [],
   "source": [
    "atoms = atoms.repeat((3, 3, 3))\n",
    "atoms.set_pbc(True)"
   ]
  },
  {
   "cell_type": "markdown",
   "metadata": {},
   "source": [
    "RATTLE-type constraints on O-H1, O-H2, H1-H2."
   ]
  },
  {
   "cell_type": "code",
   "execution_count": 5,
   "metadata": {},
   "outputs": [],
   "source": [
    "atoms.constraints = FixBondLengths([(3 * i + j, 3 * i + (j + 1) % 3)\n",
    "                                   for i in range(3**3)\n",
    "                                   for j in [0, 1, 2]])"
   ]
  },
  {
   "cell_type": "code",
   "execution_count": 6,
   "metadata": {},
   "outputs": [],
   "source": [
    "tag = 'tip3p_27mol_equil'\n",
    "atoms.calc = TIP3P(rc=4.5)\n",
    "md = Langevin(atoms, 1 * units.fs, temperature=300 * units.kB,\n",
    "              friction=0.01, logfile=tag + '.log')"
   ]
  },
  {
   "cell_type": "code",
   "execution_count": null,
   "metadata": {},
   "outputs": [],
   "source": [
    "traj = Trajectory(tag + '.traj', 'w', atoms)\n",
    "md.attach(traj.write, interval=1)\n",
    "md.run(4000)"
   ]
  },
  {
   "cell_type": "markdown",
   "metadata": {},
   "source": [
    "Repeat box and equilibrate further."
   ]
  },
  {
   "cell_type": "code",
   "execution_count": null,
   "metadata": {},
   "outputs": [],
   "source": [
    "tag = 'tip3p_216mol_equil'\n",
    "atoms.set_constraint()  # repeat not compatible with FixBondLengths currently.\n",
    "atoms = atoms.repeat((2, 2, 2))\n",
    "atoms.constraints = FixBondLengths([(3 * i + j, 3 * i + (j + 1) % 3)\n",
    "                                   for i in range(len(atoms) / 3)\n",
    "                                   for j in [0, 1, 2]])"
   ]
  },
  {
   "cell_type": "code",
   "execution_count": null,
   "metadata": {},
   "outputs": [],
   "source": [
    "atoms.calc = TIP3P(rc=7.)\n",
    "md = Langevin(atoms, 2 * units.fs, temperature=300 * units.kB,\n",
    "              friction=0.01, logfile=tag + '.log')"
   ]
  },
  {
   "cell_type": "code",
   "execution_count": null,
   "metadata": {},
   "outputs": [],
   "source": [
    "traj = Trajectory(tag + '.traj', 'w', atoms)\n",
    "md.attach(traj.write, interval=1)\n",
    "md.run(2000)"
   ]
  },
  {
   "cell_type": "markdown",
   "metadata": {},
   "source": [
    "The temperature calculated by ASE is assuming all degrees of freedom are available to the system. Since the constraints have removed the 3 vibrational modes from each water, the shown temperature will be 2/3 of the actual value."
   ]
  },
  {
   "cell_type": "code",
   "execution_count": null,
   "metadata": {},
   "outputs": [],
   "source": []
  }
 ],
 "metadata": {
  "kernelspec": {
   "display_name": "Python 3",
   "language": "python",
   "name": "python3"
  },
  "language_info": {
   "codemirror_mode": {
    "name": "ipython",
    "version": 3
   },
   "file_extension": ".py",
   "mimetype": "text/x-python",
   "name": "python",
   "nbconvert_exporter": "python",
   "pygments_lexer": "ipython3",
   "version": "3.8.2"
  }
 },
 "nbformat": 4,
 "nbformat_minor": 4
}
