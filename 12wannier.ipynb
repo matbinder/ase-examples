{
 "cells": [
  {
   "cell_type": "markdown",
   "metadata": {},
   "source": [
    "# Partly occupied Wannier Functions\n",
    "https://wiki.fysik.dtu.dk/ase/tutorials/wannier/wannier.html"
   ]
  },
  {
   "cell_type": "code",
   "execution_count": 1,
   "metadata": {},
   "outputs": [],
   "source": [
    "%matplotlib inline "
   ]
  },
  {
   "cell_type": "code",
   "execution_count": 2,
   "metadata": {},
   "outputs": [],
   "source": [
    "import os \n",
    "os.environ['GPAW_SETUP_PATH'] = os.path.expanduser('~/resources/gpaw-setups-0.9.20000')"
   ]
  },
  {
   "cell_type": "code",
   "execution_count": 3,
   "metadata": {},
   "outputs": [],
   "source": [
    "from ase.build import molecule\n",
    "from gpaw import GPAW"
   ]
  },
  {
   "cell_type": "code",
   "execution_count": 4,
   "metadata": {},
   "outputs": [],
   "source": [
    "atoms = molecule('C6H6')\n",
    "atoms.center(vacuum=3.5)"
   ]
  },
  {
   "cell_type": "code",
   "execution_count": 5,
   "metadata": {},
   "outputs": [
    {
     "data": {
      "text/plain": [
       "-75.79712171412645"
      ]
     },
     "execution_count": 5,
     "metadata": {},
     "output_type": "execute_result"
    }
   ],
   "source": [
    "calc = GPAW(h=.21, xc='PBE', txt='benzene.txt', nbands=18)\n",
    "atoms.set_calculator(calc)\n",
    "atoms.get_potential_energy()"
   ]
  },
  {
   "cell_type": "code",
   "execution_count": null,
   "metadata": {},
   "outputs": [],
   "source": [
    "calc.set(fixdensity=True, txt='benzene-harris.txt',\n",
    "         nbands=40, eigensolver='cg', convergence={'bands': 35})\n",
    "atoms.get_potential_energy()"
   ]
  },
  {
   "cell_type": "code",
   "execution_count": null,
   "metadata": {},
   "outputs": [],
   "source": [
    "calc.write('benzene.gpw', mode='all')"
   ]
  },
  {
   "cell_type": "code",
   "execution_count": null,
   "metadata": {},
   "outputs": [],
   "source": [
    "from gpaw import restart\n",
    "from ase.dft import Wannier"
   ]
  },
  {
   "cell_type": "code",
   "execution_count": null,
   "metadata": {},
   "outputs": [],
   "source": [
    "atoms, calc = restart('benzene.gpw', txt=None)"
   ]
  },
  {
   "cell_type": "markdown",
   "metadata": {},
   "source": [
    "Make wannier functions of occupied space only"
   ]
  },
  {
   "cell_type": "code",
   "execution_count": null,
   "metadata": {},
   "outputs": [],
   "source": [
    "wan = Wannier(nwannier=15, calc=calc)\n",
    "wan.localize()\n",
    "for i in range(wan.nwannier):\n",
    "    wan.write_cube(i, 'benzene15_%i.cube' % i)"
   ]
  },
  {
   "cell_type": "markdown",
   "metadata": {},
   "source": [
    "Make wannier functions using (three) extra degrees of freedom."
   ]
  },
  {
   "cell_type": "code",
   "execution_count": null,
   "metadata": {},
   "outputs": [],
   "source": [
    "wan = Wannier(nwannier=18, calc=calc, fixedstates=15)\n",
    "wan.localize()\n",
    "wan.save('wan18.pickle')\n",
    "for i in range(wan.nwannier):\n",
    "    wan.write_cube(i, 'benzene18_%i.cube' % i)"
   ]
  },
  {
   "cell_type": "code",
   "execution_count": null,
   "metadata": {},
   "outputs": [],
   "source": [
    "import numpy as np\n",
    "import matplotlib.pyplot as plt\n",
    "from ase.dft import Wannier\n",
    "from gpaw import restart"
   ]
  },
  {
   "cell_type": "code",
   "execution_count": null,
   "metadata": {},
   "outputs": [],
   "source": [
    "atoms, calc = restart('benzene.gpw', txt=None)\n",
    "wan = Wannier(nwannier=18, calc=calc, fixedstates=15, file='wan18.pickle')"
   ]
  },
  {
   "cell_type": "code",
   "execution_count": null,
   "metadata": {},
   "outputs": [],
   "source": [
    "weight_n = np.sum(abs(wan.V_knw[0])**2, 1)\n",
    "N = len(weight_n)\n",
    "F = wan.fixedstates_k[0]\n",
    "plt.figure(1, figsize=(12, 4))\n",
    "plt.bar(range(1, N + 1), weight_n, width=0.65, bottom=0,\n",
    "        color='k', edgecolor='k', linewidth=None,\n",
    "        align='center', orientation='vertical')\n",
    "plt.plot([F + 0.5, F + 0.5], [0, 1], 'k--')\n",
    "plt.axis(xmin=0.32, xmax=N + 1.33, ymin=0, ymax=1)\n",
    "plt.xlabel('Eigenstate')\n",
    "plt.ylabel('Projection of wannier functions')\n",
    "plt.savefig('spectral_weight.png')\n",
    "plt.show()"
   ]
  },
  {
   "cell_type": "code",
   "execution_count": null,
   "metadata": {},
   "outputs": [],
   "source": [
    "import numpy as np"
   ]
  },
  {
   "cell_type": "code",
   "execution_count": null,
   "metadata": {},
   "outputs": [],
   "source": [
    "from ase import Atoms\n",
    "from ase.dft.kpoints import monkhorst_pack\n",
    "from gpaw import GPAW"
   ]
  },
  {
   "cell_type": "code",
   "execution_count": null,
   "metadata": {},
   "outputs": [],
   "source": [
    "kpts = monkhorst_pack((13, 1, 1)) + [1e-5, 0, 0]\n",
    "calc = GPAW(h=.21, xc='PBE', kpts=kpts, nbands=12, txt='poly.txt',\n",
    "            eigensolver='cg', convergence={'bands': 9})"
   ]
  },
  {
   "cell_type": "code",
   "execution_count": null,
   "metadata": {},
   "outputs": [],
   "source": [
    "CC = 1.38\n",
    "CH = 1.094\n",
    "a = 2.45\n",
    "x = a / 2.\n",
    "y = np.sqrt(CC**2 - x**2)"
   ]
  },
  {
   "cell_type": "code",
   "execution_count": null,
   "metadata": {},
   "outputs": [],
   "source": [
    "atoms = Atoms('C2H2', pbc=(True, False, False), cell=(a, 8., 6.),\n",
    "              calculator=calc, positions=[[0, 0, 0],\n",
    "                                          [x, y, 0],\n",
    "                                          [x, y + CH, 0],\n",
    "                                          [0, -CH, 0]])"
   ]
  },
  {
   "cell_type": "code",
   "execution_count": null,
   "metadata": {},
   "outputs": [],
   "source": [
    "atoms.center()\n",
    "atoms.get_potential_energy()\n",
    "calc.write('poly.gpw', mode='all')"
   ]
  },
  {
   "cell_type": "code",
   "execution_count": null,
   "metadata": {},
   "outputs": [],
   "source": [
    "from __future__ import print_function\n",
    "import numpy as np"
   ]
  },
  {
   "cell_type": "code",
   "execution_count": null,
   "metadata": {},
   "outputs": [],
   "source": [
    "from ase.dft import Wannier\n",
    "from gpaw import restart"
   ]
  },
  {
   "cell_type": "code",
   "execution_count": null,
   "metadata": {},
   "outputs": [],
   "source": [
    "atoms, calc = restart('poly.gpw', txt=None)"
   ]
  },
  {
   "cell_type": "markdown",
   "metadata": {},
   "source": [
    "Make wannier functions using (one) extra degree of freedom"
   ]
  },
  {
   "cell_type": "code",
   "execution_count": null,
   "metadata": {},
   "outputs": [],
   "source": [
    "wan = Wannier(nwannier=6, calc=calc, fixedenergy=1.5)\n",
    "wan.localize()\n",
    "wan.save('poly.pickle')\n",
    "wan.translate_all_to_cell((2, 0, 0))\n",
    "for i in range(wan.nwannier):\n",
    "    wan.write_cube(i, 'polyacetylene_%i.cube' % i)"
   ]
  },
  {
   "cell_type": "markdown",
   "metadata": {},
   "source": [
    "Print Kohn-Sham bandstructure"
   ]
  },
  {
   "cell_type": "code",
   "execution_count": null,
   "metadata": {},
   "outputs": [],
   "source": [
    "ef = calc.get_fermi_level()\n",
    "f = open('KSbands.txt', 'w')\n",
    "for k, kpt_c in enumerate(calc.get_ibz_k_points()):\n",
    "    for eps in calc.get_eigenvalues(kpt=k):\n",
    "        print(kpt_c[0], eps - ef, file=f)"
   ]
  },
  {
   "cell_type": "markdown",
   "metadata": {},
   "source": [
    "Print Wannier bandstructure"
   ]
  },
  {
   "cell_type": "code",
   "execution_count": null,
   "metadata": {},
   "outputs": [],
   "source": [
    "f = open('WANbands.txt', 'w')\n",
    "for k in np.linspace(-.5, .5, 100):\n",
    "    for eps in np.linalg.eigvalsh(wan.get_hamiltonian_kpoint([k, 0, 0])).real:\n",
    "        print(k, eps - ef, file=f)"
   ]
  },
  {
   "cell_type": "code",
   "execution_count": null,
   "metadata": {},
   "outputs": [],
   "source": [
    "import numpy as np\n",
    "import matplotlib.pyplot as plt"
   ]
  },
  {
   "cell_type": "code",
   "execution_count": null,
   "metadata": {},
   "outputs": [],
   "source": [
    "fig = plt.figure(1, dpi=80, figsize=(4.2, 6))\n",
    "fig.subplots_adjust(left=.16, right=.97, top=.97, bottom=.05)"
   ]
  },
  {
   "cell_type": "markdown",
   "metadata": {},
   "source": [
    "Plot KS bands"
   ]
  },
  {
   "cell_type": "code",
   "execution_count": null,
   "metadata": {},
   "outputs": [],
   "source": [
    "k, eps = np.loadtxt('KSbands.txt', unpack=True)\n",
    "plt.plot(k, eps, 'ro', label='DFT', ms=9)"
   ]
  },
  {
   "cell_type": "markdown",
   "metadata": {},
   "source": [
    "Plot Wannier bands"
   ]
  },
  {
   "cell_type": "code",
   "execution_count": null,
   "metadata": {},
   "outputs": [],
   "source": [
    "k, eps = np.loadtxt('WANbands.txt', unpack=True)\n",
    "plt.plot(k, eps, 'k.', label='Wannier')"
   ]
  },
  {
   "cell_type": "code",
   "execution_count": null,
   "metadata": {},
   "outputs": [],
   "source": [
    "plt.plot([-.5, .5], [1, 1], 'k:', label='_nolegend_')\n",
    "plt.text(-.5, 1, 'fixedenergy', ha='left', va='bottom')\n",
    "plt.axis('tight')\n",
    "plt.xticks([-.5, -.25, 0, .25, .5],\n",
    "           [r'$X$', r'$\\Delta$', r'$\\Gamma$', r'$\\Delta$', r'$X$'], size=16)\n",
    "plt.ylabel(r'$E - E_F\\  \\rm{(eV)}$', size=16)\n",
    "plt.legend()\n",
    "plt.savefig('bands.png', dpi=80)\n",
    "plt.show()"
   ]
  }
 ],
 "metadata": {
  "kernelspec": {
   "display_name": "Python 3",
   "language": "python",
   "name": "python3"
  },
  "language_info": {
   "codemirror_mode": {
    "name": "ipython",
    "version": 3
   },
   "file_extension": ".py",
   "mimetype": "text/x-python",
   "name": "python",
   "nbconvert_exporter": "python",
   "pygments_lexer": "ipython3",
   "version": "3.8.2"
  }
 },
 "nbformat": 4,
 "nbformat_minor": 4
}
