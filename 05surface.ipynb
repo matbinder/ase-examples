{
 "cells": [
  {
   "cell_type": "markdown",
   "metadata": {},
   "source": [
    "# Surface adsorption study using the ASE database\n",
    "https://wiki.fysik.dtu.dk/ase/tutorials/db/db.html\n",
    "In this tutorial we will adsorb C, N and O on 7 different FCC(111) surfaces with 1, 2 and 3 layers and we will use database files to store the results."
   ]
  },
  {
   "cell_type": "markdown",
   "metadata": {},
   "source": [
    "# Bulk \n",
    "First, we calculate the equilibrium bulk FCC lattice constants for the seven elements where the `EMT` potential works well:"
   ]
  },
  {
   "cell_type": "code",
   "execution_count": 1,
   "metadata": {},
   "outputs": [],
   "source": [
    "from ase.build import bulk\n",
    "from ase.calculators.emt import EMT\n",
    "from ase.eos import calculate_eos\n",
    "from ase.db import connect"
   ]
  },
  {
   "cell_type": "code",
   "execution_count": null,
   "metadata": {},
   "outputs": [],
   "source": [
    "db = connect('bulk.db')\n",
    "for symb in ['Al', 'Ni', 'Cu', 'Pd', 'Ag', 'Pt', 'Au']:\n",
    "    atoms = bulk(symb, 'fcc')\n",
    "    atoms.calc = EMT()\n",
    "    eos = calculate_eos(atoms)\n",
    "    v, e, B = eos.fit()  # find minimum\n",
    "    # Do one more calculation at the minimu and write to database:\n",
    "    atoms.cell *= (v / atoms.get_volume())**(1 / 3)\n",
    "    atoms.get_potential_energy()\n",
    "    db.write(atoms, bm=B)"
   ]
  },
  {
   "cell_type": "code",
   "execution_count": null,
   "metadata": {},
   "outputs": [],
   "source": [
    "! ase db bulk.db -c +bm  # show also the bulk-modulus column"
   ]
  },
  {
   "cell_type": "markdown",
   "metadata": {},
   "source": [
    "The `bulk.db` is an SQLite3 database in a single file."
   ]
  },
  {
   "cell_type": "code",
   "execution_count": null,
   "metadata": {},
   "outputs": [],
   "source": [
    "! file bulk.db"
   ]
  },
  {
   "cell_type": "markdown",
   "metadata": {},
   "source": [
    "If you want to see what’s inside you can convert the database file to a json file and open that in your text editor:"
   ]
  },
  {
   "cell_type": "code",
   "execution_count": null,
   "metadata": {},
   "outputs": [],
   "source": [
    "! ase db bulk.db --insert-into bulk.json"
   ]
  },
  {
   "cell_type": "markdown",
   "metadata": {},
   "source": [
    "or, you can look at a single row like this:"
   ]
  },
  {
   "cell_type": "code",
   "execution_count": null,
   "metadata": {},
   "outputs": [],
   "source": [
    "! ase db bulk.db Cu -j"
   ]
  },
  {
   "cell_type": "markdown",
   "metadata": {},
   "source": [
    "The json file format is human readable, but much less efficient to work with compared to a SQLite3 file."
   ]
  },
  {
   "cell_type": "markdown",
   "metadata": {},
   "source": [
    "# Adsorbates\n",
    "Now we do the adsorption calculations."
   ]
  },
  {
   "cell_type": "code",
   "execution_count": null,
   "metadata": {},
   "outputs": [],
   "source": [
    "from ase.calculators.emt import EMT\n",
    "from ase.db import connect\n",
    "from ase.build import fcc111, add_adsorbate\n",
    "from ase.constraints import FixAtoms\n",
    "from ase.optimize import BFGS"
   ]
  },
  {
   "cell_type": "code",
   "execution_count": null,
   "metadata": {},
   "outputs": [],
   "source": [
    "db1 = connect('bulk.db')\n",
    "db2 = connect('ads.db')"
   ]
  },
  {
   "cell_type": "code",
   "execution_count": null,
   "metadata": {},
   "outputs": [],
   "source": [
    "def run(symb, a, n, ads):\n",
    "    atoms = fcc111(symb, (1, 1, n), a=a)\n",
    "    add_adsorbate(atoms, ads, height=1.0, position='fcc')\n",
    "\n",
    "    # Constrain all atoms except the adsorbate:\n",
    "    fixed = list(range(len(atoms) - 1))\n",
    "    atoms.constraints = [FixAtoms(indices=fixed)]\n",
    "\n",
    "    atoms.calc = EMT()\n",
    "    opt = BFGS(atoms, logfile=None)\n",
    "    opt.run(fmax=0.01)\n",
    "    return atoms"
   ]
  },
  {
   "cell_type": "code",
   "execution_count": null,
   "metadata": {},
   "outputs": [],
   "source": [
    "for row in db1.select():\n",
    "    a = row.cell[0, 1] * 2\n",
    "    symb = row.symbols[0]\n",
    "    for n in [1, 2, 3]:\n",
    "        for ads in 'CNO':\n",
    "            atoms = run(symb, a, n, ads)\n",
    "            db2.write(atoms, layers=n, surf=symb, ads=ads)"
   ]
  },
  {
   "cell_type": "markdown",
   "metadata": {},
   "source": [
    "We now have a new database file with 63 rows."
   ]
  },
  {
   "cell_type": "code",
   "execution_count": null,
   "metadata": {},
   "outputs": [],
   "source": [
    "! ase db ads.db -n"
   ]
  },
  {
   "cell_type": "markdown",
   "metadata": {},
   "source": [
    "These 63 calculations only take a few seconds with EMT. Suppose you want to use DFT and send the calculations to a supercomputer. In that case you may want to run several calculations in different jobs on the computer. In addition, some of the jobs could time out and not finish. It’s a good idea to modify the script a bit for this scenario. We add a couple of lines to the inner loop:"
   ]
  },
  {
   "cell_type": "code",
   "execution_count": null,
   "metadata": {},
   "outputs": [],
   "source": [
    "for row in db1.select():\n",
    "    a = row.cell[0, 1] * 2\n",
    "    symb = row.symbols[0]\n",
    "    for n in [1, 2, 3]:\n",
    "        for ads in 'CNO':\n",
    "            id = db2.reserve(layers=n, surf=symb, ads=ads)\n",
    "            if id is not None:\n",
    "                atoms = run(symb, a, n, ads)\n",
    "                db2.write(atoms, layers=n, surf=symb, ads=ads)\n",
    "                del db2[id]"
   ]
  },
  {
   "cell_type": "markdown",
   "metadata": {},
   "source": [
    "The `reserve()` method will check if there is a row with the keys `layers=n`, `surf=symb` and `ads=ads`. If there is, then the calculation will be skipped. If there is not, then an empty row with those keys-values will be written and the calculation will start. When done, the real row will be written and the empty one will be removed. This modified script can run in several jobs all running in parallel and no calculation will be done twice."
   ]
  },
  {
   "cell_type": "code",
   "execution_count": null,
   "metadata": {},
   "outputs": [],
   "source": [
    "! ase db ads.db natoms=0 -c ++"
   ]
  },
  {
   "cell_type": "markdown",
   "metadata": {},
   "source": [
    "Delete them, fix the problem and run the script again:"
   ]
  },
  {
   "cell_type": "code",
   "execution_count": null,
   "metadata": {},
   "outputs": [],
   "source": [
    "! ase db ads.db natoms=0 --delete"
   ]
  },
  {
   "cell_type": "code",
   "execution_count": null,
   "metadata": {},
   "outputs": [],
   "source": [
    "! ase db ads.db natoms=0"
   ]
  },
  {
   "cell_type": "markdown",
   "metadata": {},
   "source": [
    "# Reference energies\n",
    "Let’s also calculate the energy of the clean surfaces and the isolated adsorbates:"
   ]
  },
  {
   "cell_type": "code",
   "execution_count": null,
   "metadata": {},
   "outputs": [],
   "source": [
    "from ase import Atoms\n",
    "from ase.calculators.emt import EMT\n",
    "from ase.db import connect\n",
    "from ase.build import fcc111"
   ]
  },
  {
   "cell_type": "code",
   "execution_count": null,
   "metadata": {},
   "outputs": [],
   "source": [
    "db1 = connect('bulk.db')\n",
    "db2 = connect('ads.db')"
   ]
  },
  {
   "cell_type": "code",
   "execution_count": null,
   "metadata": {},
   "outputs": [],
   "source": [
    "def run(symb, a, n):\n",
    "    atoms = fcc111(symb, (1, 1, n), a=a)\n",
    "    atoms.calc = EMT()\n",
    "    atoms.get_forces()\n",
    "    return atoms"
   ]
  },
  {
   "cell_type": "markdown",
   "metadata": {},
   "source": [
    "Clean slabs:"
   ]
  },
  {
   "cell_type": "code",
   "execution_count": null,
   "metadata": {},
   "outputs": [],
   "source": [
    "for row in db1.select():\n",
    "    a = row.cell[0, 1] * 2\n",
    "    symb = row.symbols[0]\n",
    "    for n in [1, 2, 3]:\n",
    "        id = db2.reserve(layers=n, surf=symb, ads='clean')\n",
    "        if id is not None:\n",
    "            atoms = run(symb, a, n)\n",
    "            db2.write(atoms, id=id, layers=n, surf=symb, ads='clean')"
   ]
  },
  {
   "cell_type": "markdown",
   "metadata": {},
   "source": [
    "Atoms:"
   ]
  },
  {
   "cell_type": "code",
   "execution_count": null,
   "metadata": {},
   "outputs": [],
   "source": [
    "for ads in 'CNO':\n",
    "    a = Atoms(ads)\n",
    "    a.calc = EMT()\n",
    "    a.get_potential_energy()\n",
    "    db2.write(a)"
   ]
  },
  {
   "cell_type": "code",
   "execution_count": null,
   "metadata": {},
   "outputs": [],
   "source": [
    "! ase db ads.db -n"
   ]
  },
  {
   "cell_type": "markdown",
   "metadata": {},
   "source": [
    "Say we want those 24 reference energies (clean surfaces and isolated adsorbates) in a `refs.db` file instead of the big `ads.db` file. We could change the `refs.py` script and run the calculations again, but we can also manipulate the files using the `ase db` tool. First, we move over the clean surfaces:"
   ]
  },
  {
   "cell_type": "code",
   "execution_count": null,
   "metadata": {},
   "outputs": [],
   "source": [
    "! ase db ads.db ads=clean --insert-into refs.db"
   ]
  },
  {
   "cell_type": "code",
   "execution_count": null,
   "metadata": {},
   "outputs": [],
   "source": [
    "! ase db ads.db ads=clean --delete --yes"
   ]
  },
  {
   "cell_type": "markdown",
   "metadata": {},
   "source": [
    "and then the three atoms (`pbc=FFF`, no periodicity):"
   ]
  },
  {
   "cell_type": "code",
   "execution_count": null,
   "metadata": {},
   "outputs": [],
   "source": [
    "! ase db ads.db pbc=FFF --insert-into refs.db"
   ]
  },
  {
   "cell_type": "code",
   "execution_count": null,
   "metadata": {},
   "outputs": [],
   "source": [
    "! ase db ads.db pbc=FFF --delete --yes"
   ]
  },
  {
   "cell_type": "code",
   "execution_count": null,
   "metadata": {},
   "outputs": [],
   "source": [
    "! ase db ads.db -n"
   ]
  },
  {
   "cell_type": "code",
   "execution_count": null,
   "metadata": {},
   "outputs": [],
   "source": [
    "! ase db refs.db -n"
   ]
  },
  {
   "cell_type": "markdown",
   "metadata": {},
   "source": [
    "# Analysis\n",
    "Now we have what we need to calculate the adsorption energies and heights:"
   ]
  },
  {
   "cell_type": "code",
   "execution_count": null,
   "metadata": {},
   "outputs": [],
   "source": [
    "from ase.db import connect"
   ]
  },
  {
   "cell_type": "code",
   "execution_count": null,
   "metadata": {},
   "outputs": [],
   "source": [
    "refs = connect('refs.db')\n",
    "db = connect('ads.db')"
   ]
  },
  {
   "cell_type": "code",
   "execution_count": null,
   "metadata": {},
   "outputs": [],
   "source": [
    "for row in db.select():\n",
    "    ea = (row.energy -\n",
    "          refs.get(formula=row.ads).energy -\n",
    "          refs.get(layers=row.layers, surf=row.surf).energy)\n",
    "    h = row.positions[-1, 2] - row.positions[-2, 2]\n",
    "    db.update(row.id, height=h, ea=ea)"
   ]
  },
  {
   "cell_type": "code",
   "execution_count": null,
   "metadata": {},
   "outputs": [],
   "source": [
    "! ase db ads.db Pt,layers=3 -c formula,ea,height"
   ]
  },
  {
   "cell_type": "code",
   "execution_count": null,
   "metadata": {},
   "outputs": [],
   "source": []
  },
  {
   "cell_type": "code",
   "execution_count": null,
   "metadata": {},
   "outputs": [],
   "source": []
  }
 ],
 "metadata": {
  "kernelspec": {
   "display_name": "Python 3",
   "language": "python",
   "name": "python3"
  },
  "language_info": {
   "codemirror_mode": {
    "name": "ipython",
    "version": 3
   },
   "file_extension": ".py",
   "mimetype": "text/x-python",
   "name": "python",
   "nbconvert_exporter": "python",
   "pygments_lexer": "ipython3",
   "version": "3.8.2"
  }
 },
 "nbformat": 4,
 "nbformat_minor": 4
}
