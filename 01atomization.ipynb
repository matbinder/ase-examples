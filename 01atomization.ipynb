{
 "cells": [
  {
   "cell_type": "markdown",
   "metadata": {},
   "source": [
    "# Atomization energy\n",
    "https://wiki.fysik.dtu.dk/ase/tutorials/atomization.html\n",
    "The following script will calculate the atomization energy of a nitrogen molecule:"
   ]
  },
  {
   "cell_type": "code",
   "execution_count": 1,
   "metadata": {},
   "outputs": [],
   "source": [
    "from ase import Atoms\n",
    "from ase.calculators.emt import EMT"
   ]
  },
  {
   "cell_type": "markdown",
   "metadata": {},
   "source": [
    "First, an `Atoms` object containing one nitrogen is created and a fast EMT calculator is attached to it simply as an argument. The total energy for the isolated atom is then calculated and stored in the `e_atom` variable."
   ]
  },
  {
   "cell_type": "code",
   "execution_count": 2,
   "metadata": {},
   "outputs": [],
   "source": [
    "atom = Atoms('N', calculator=EMT())\n",
    "e_atom = atom.get_potential_energy()"
   ]
  },
  {
   "cell_type": "markdown",
   "metadata": {},
   "source": [
    "The `molecule` object is defined, holding the nitrogen molecule at the experimental bond length. The EMT calculator is then attached to the molecule and the total energy is extracted into the `e_molecule` variable."
   ]
  },
  {
   "cell_type": "code",
   "execution_count": 3,
   "metadata": {},
   "outputs": [],
   "source": [
    "d = 1.1\n",
    "molecule = Atoms('2N', [(0., 0., 0.), (0., 0., d)])\n",
    "molecule.set_calculator(EMT())\n",
    "e_molecule = molecule.get_potential_energy()"
   ]
  },
  {
   "cell_type": "code",
   "execution_count": 4,
   "metadata": {},
   "outputs": [],
   "source": [
    "e_atomization = e_molecule - 2 * e_atom"
   ]
  },
  {
   "cell_type": "markdown",
   "metadata": {},
   "source": [
    "Running the script will produce the output:"
   ]
  },
  {
   "cell_type": "code",
   "execution_count": 5,
   "metadata": {},
   "outputs": [
    {
     "name": "stdout",
     "output_type": "stream",
     "text": [
      "Nitrogen atom energy:  5.10 eV\n",
      "Nitrogen molecule energy:  0.44 eV\n",
      "Atomization energy:  9.76 eV\n"
     ]
    }
   ],
   "source": [
    "print('Nitrogen atom energy: %5.2f eV' % e_atom)\n",
    "print('Nitrogen molecule energy: %5.2f eV' % e_molecule)\n",
    "print('Atomization energy: %5.2f eV' % -e_atomization)"
   ]
  },
  {
   "cell_type": "code",
   "execution_count": null,
   "metadata": {},
   "outputs": [],
   "source": []
  }
 ],
 "metadata": {
  "kernelspec": {
   "display_name": "Python 3",
   "language": "python",
   "name": "python3"
  },
  "language_info": {
   "codemirror_mode": {
    "name": "ipython",
    "version": 3
   },
   "file_extension": ".py",
   "mimetype": "text/x-python",
   "name": "python",
   "nbconvert_exporter": "python",
   "pygments_lexer": "ipython3",
   "version": "3.8.2"
  }
 },
 "nbformat": 4,
 "nbformat_minor": 4
}
