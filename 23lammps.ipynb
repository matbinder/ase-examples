{
 "cells": [
  {
   "cell_type": "code",
   "execution_count": 1,
   "metadata": {},
   "outputs": [],
   "source": [
    "from ase import Atom, Atoms\n",
    "from ase.build import bulk\n",
    "from ase.calculators.lammpslib import LAMMPSlib"
   ]
  },
  {
   "cell_type": "code",
   "execution_count": 2,
   "metadata": {},
   "outputs": [],
   "source": [
    "cmds = [\"pair_style eam/alloy\",\n",
    "        \"pair_coeff * * resources/lammps/NiAlH_jea.eam.alloy Ni H\"]"
   ]
  },
  {
   "cell_type": "code",
   "execution_count": 3,
   "metadata": {},
   "outputs": [],
   "source": [
    "Ni = bulk('Ni', cubic=True)\n",
    "H = Atom('H', position=Ni.cell.diagonal()/2)\n",
    "NiH = Ni + H"
   ]
  },
  {
   "cell_type": "code",
   "execution_count": 4,
   "metadata": {},
   "outputs": [],
   "source": [
    "lammps = LAMMPSlib(lmpcmds=cmds, log_file='test.log')"
   ]
  },
  {
   "cell_type": "code",
   "execution_count": 5,
   "metadata": {},
   "outputs": [
    {
     "name": "stdout",
     "output_type": "stream",
     "text": [
      "Energy  -19.91947700906044\n"
     ]
    }
   ],
   "source": [
    "NiH.set_calculator(lammps)\n",
    "print(\"Energy \", NiH.get_potential_energy())"
   ]
  }
 ],
 "metadata": {
  "kernelspec": {
   "display_name": "Python 3",
   "language": "python",
   "name": "python3"
  },
  "language_info": {
   "codemirror_mode": {
    "name": "ipython",
    "version": 3
   },
   "file_extension": ".py",
   "mimetype": "text/x-python",
   "name": "python",
   "nbconvert_exporter": "python",
   "pygments_lexer": "ipython3",
   "version": "3.7.3"
  }
 },
 "nbformat": 4,
 "nbformat_minor": 2
}
